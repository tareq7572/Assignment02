{
  "nbformat": 4,
  "nbformat_minor": 0,
  "metadata": {
    "accelerator": "GPU",
    "colab": {
      "name": "assignment_02_02.ipynb",
      "provenance": [],
      "collapsed_sections": []
    },
    "kernelspec": {
      "display_name": "Python 3",
      "name": "python3"
    }
  },
  "cells": [
    {
      "cell_type": "markdown",
      "metadata": {
        "id": "_u3E0-zKCkqr"
      },
      "source": [
        "## Basic Comparison\n",
        "\n",
        "- **Linear Regression**\n",
        "    - Output: numeric value given inputs\n",
        "- **Logistic Regression**\n",
        "    - Output: probability [0, 1] given input belonging to a class\n",
        "\n",
        "\n",
        "\n",
        "**Logistic Regression Example: Positive vs Negative**\n",
        "\n",
        "**Input:** Sequence of Words\n",
        "\n",
        "**Output:** Probability of positive\n",
        "\n",
        "- Input: \"Delivery speed was good\"\n",
        "- Output: **p = 0.8**\n",
        "\n",
        "- Input: \"Terrible Customer Service\"\n",
        "- Output: **p = 0.2**"
      ]
    },
    {
      "cell_type": "markdown",
      "metadata": {
        "id": "SyzBofWXmt0H"
      },
      "source": [
        "\n",
        "\n",
        "\n",
        "<div align=\"center\">\n",
        "<img src=\"https://drive.google.com/uc?id=1VT-muG5HJoWaT9jwlmI6fe_7CjbW9x8I\" width=\"400\">\n",
        "</div>\n",
        "\n",
        "\n",
        "<div align=\"center\">\n",
        "<img src=\"https://drive.google.com/uc?id=1foK0jI3dSuvCBBUbiqVKMiLn7x3ngA_x\" width=\"550\">\n",
        "</div>"
      ]
    },
    {
      "cell_type": "code",
      "metadata": {
        "colab": {
          "base_uri": "https://localhost:8080/"
        },
        "id": "HJ1dVc9mgbN8",
        "outputId": "6f7889e6-8682-431c-eb82-c414eaae5d2f"
      },
      "source": [
        "import torch\n",
        "import torch.nn as nn\n",
        "import torch.nn.functional as F\n",
        "import torchvision\n",
        "import torchvision.transforms as transforms\n",
        "import torchvision.datasets as dsets\n",
        "import os\n",
        "import pandas as pd\n",
        "from skimage import io, transform\n",
        "import numpy as np\n",
        "import matplotlib.pyplot as plt\n",
        "from torch.utils.data import Dataset, DataLoader\n",
        "from torchvision import transforms, utils\n",
        "from google.colab import drive\n",
        "from PIL import Image, ImageOps, ImageEnhance\n",
        "from sklearn.linear_model import LinearRegression\n",
        "\n",
        "drive.mount('/content/drive')"
      ],
      "execution_count": 2,
      "outputs": [
        {
          "output_type": "stream",
          "name": "stdout",
          "text": [
            "Mounted at /content/drive\n"
          ]
        }
      ]
    },
    {
      "cell_type": "markdown",
      "metadata": {
        "id": "fXVIydDCxDPS"
      },
      "source": [
        "- **Input dimension:**\n",
        "  - Size of image: $180 \\times 180 = 32400$\n",
        "\n",
        "- **Output dimension: 10**\n",
        "  - 0, 1, 2, 3, 4, 5, 6, 7, 8, 9"
      ]
    },
    {
      "cell_type": "code",
      "metadata": {
        "id": "o5hVijghPqz0"
      },
      "source": [
        "# Hyperparameters\n",
        "\n",
        "batch_size = 20\n",
        "num_iters = 16000\n",
        "input_dim = 180*180 # num_features = 784\n",
        "output_dim = 10\n",
        "\n",
        "learning_rate = 0.01\n",
        "\n",
        "# Device\n",
        "device = torch.device(\"cuda:0\" if torch.cuda.is_available() else \"cpu\")\n",
        "\n",
        "\n"
      ],
      "execution_count": 3,
      "outputs": []
    },
    {
      "cell_type": "code",
      "metadata": {
        "id": "MnG7M9kvibM3"
      },
      "source": [
        "class MyDataset(Dataset):\n",
        "\n",
        "\n",
        "    def __init__(self, csv_file, root_dir, transform=None):\n",
        "        \n",
        "        self.df = pd.read_csv(csv_file)\n",
        "        self.root_dir = root_dir\n",
        "        self.transform = transform\n",
        "\n",
        "    def __len__(self):\n",
        "        return len(self.df)\n",
        "\n",
        "    def __getitem__(self, idx):\n",
        "        if torch.is_tensor(idx): #del\n",
        "            idx = idx.tolist()\n",
        "        threshold_value=110\n",
        "        img_name = os.path.join(self.root_dir,self.df.iloc[idx, 0])\n",
        "        image = Image.open(img_name)\n",
        "        image = ImageOps.invert(image)\n",
        "        enhancement = ImageEnhance.Contrast(image)\n",
        "        image = enhancement.enhance(2)\n",
        "        image=image.point(lambda value: value > threshold_value and 255) \n",
        "        enhancement = ImageEnhance.Brightness(image)\n",
        "        image = enhancement.enhance(50)\n",
        "        \n",
        "        digit = self.df.iloc[idx, 1:]\n",
        "        digit = np.array([digit])\n",
        "        dig=digit[0][0].item()\n",
        "      \n",
        "\n",
        "        if self.transform:\n",
        "           image = self.transform(image)\n",
        "           \n",
        "        return (image,dig)"
      ],
      "execution_count": 4,
      "outputs": []
    },
    {
      "cell_type": "markdown",
      "metadata": {
        "id": "C4R6x4MvEsOT"
      },
      "source": [
        "\n",
        "\n",
        "```\n",
        "# This is formatted as code\n",
        "```\n",
        "\n",
        "### Loading  Dataset"
      ]
    },
    {
      "cell_type": "code",
      "metadata": {
        "id": "eUumuKA-cahD"
      },
      "source": [
        "transform = transforms.Compose([\n",
        "                               \n",
        "                                transforms.Grayscale(), \n",
        "                                \n",
        "                                \n",
        "                                transforms.ToTensor(),\n",
        "                                \n",
        "                               ])\n",
        "\n",
        "\n",
        "\n",
        "\n",
        "\n",
        "'''\n",
        "LOADING DATASET\n",
        "'''\n",
        "dset=MyDataset(csv_file='/content/drive/MyDrive/assignment02_data/train/training-c.csv',root_dir='/content/drive/MyDrive/assignment02_data/train/check',transform=transform)\n",
        "train_dataset,test_dataset = torch.utils.data.random_split(dset,[19440,4858])\n",
        "\n",
        "num_epochs = num_iters / (len(train_dataset) / batch_size)\n",
        "num_epochs = int(num_epochs)\n",
        "\n",
        "train_loader = torch.utils.data.DataLoader(dataset=train_dataset, \n",
        "                                           batch_size=batch_size, \n",
        "                                           shuffle=True\n",
        "                                           )    \n",
        "\n",
        "test_loader = torch.utils.data.DataLoader(dataset=test_dataset, \n",
        "                                          batch_size=batch_size, \n",
        "                                          shuffle=False)  \n",
        "\n"
      ],
      "execution_count": 5,
      "outputs": []
    },
    {
      "cell_type": "code",
      "metadata": {
        "colab": {
          "base_uri": "https://localhost:8080/"
        },
        "id": "vmkMVvf8CLHf",
        "outputId": "12048420-0fe3-4e66-ad9e-4ba3ee4f3b2b"
      },
      "source": [
        "print(len(train_dataset))\n",
        "print(len(test_dataset))\n",
        "print(num_epochs)\n",
        "train_dataset"
      ],
      "execution_count": 6,
      "outputs": [
        {
          "output_type": "stream",
          "name": "stdout",
          "text": [
            "19440\n",
            "4858\n",
            "16\n"
          ]
        },
        {
          "output_type": "execute_result",
          "data": {
            "text/plain": [
              "<torch.utils.data.dataset.Subset at 0x7f02dffde2d0>"
            ]
          },
          "metadata": {},
          "execution_count": 6
        }
      ]
    },
    {
      "cell_type": "code",
      "metadata": {
        "colab": {
          "base_uri": "https://localhost:8080/"
        },
        "id": "m6vX_1SSCWxj",
        "outputId": "e0d5a5f1-88e6-4e93-c705-cf9b12ff8b06"
      },
      "source": [
        "# Inspecting a single image (180 pixel x 180 pixel) -->  180x180 matrix of numbers\n",
        "\n",
        "train_dataset[0]"
      ],
      "execution_count": 7,
      "outputs": [
        {
          "output_type": "execute_result",
          "data": {
            "text/plain": [
              "(tensor([[[0., 0., 0.,  ..., 0., 0., 0.],\n",
              "          [0., 0., 0.,  ..., 0., 0., 0.],\n",
              "          [0., 0., 0.,  ..., 0., 0., 0.],\n",
              "          ...,\n",
              "          [0., 0., 0.,  ..., 0., 0., 0.],\n",
              "          [0., 0., 0.,  ..., 0., 0., 0.],\n",
              "          [0., 0., 0.,  ..., 0., 0., 0.]]]), 2)"
            ]
          },
          "metadata": {},
          "execution_count": 7
        }
      ]
    },
    {
      "cell_type": "code",
      "metadata": {
        "colab": {
          "base_uri": "https://localhost:8080/",
          "height": 287
        },
        "id": "cM6LyqXOMcl-",
        "outputId": "3c4927ab-23b5-4f2b-f4a3-f990b7f7fca1"
      },
      "source": [
        "## Displaying a MNIST Image\n",
        "\n",
        "import matplotlib.pyplot as plt \n",
        "import numpy as np\n",
        "\n",
        "show_img = train_dataset[0][0].numpy().reshape(180, 180)\n",
        "plt.imshow(show_img, cmap='gray')"
      ],
      "execution_count": 8,
      "outputs": [
        {
          "output_type": "execute_result",
          "data": {
            "text/plain": [
              "<matplotlib.image.AxesImage at 0x7f02de5f7e10>"
            ]
          },
          "metadata": {},
          "execution_count": 8
        },
        {
          "output_type": "display_data",
          "data": {
            "image/png": "[encoded data removed]",
            "text/plain": [
              "<Figure size 432x288 with 1 Axes>"
            ]
          },
          "metadata": {
            "needs_background": "light"
          }
        }
      ]
    },
    {
      "cell_type": "markdown",
      "metadata": {
        "id": "nRm3MYkW8QVU"
      },
      "source": [
        "### Step #1 : Design your model using class"
      ]
    },
    {
      "cell_type": "code",
      "metadata": {
        "id": "6mydzEXpeu7G"
      },
      "source": [
        "class LogisticRegressionModel(nn.Module):\n",
        "    def __init__(self, input_size, num_classes):\n",
        "        super().__init__()\n",
        "        #1st hidden layer\n",
        "        self.fc1 = nn.Linear(input_size, 200)\n",
        "        self.relu_1 = nn.ReLU()\n",
        "        \n",
        "        #2nd hidden layer\n",
        "        self.fc2 = nn.Linear(200, 200)\n",
        "        self.relu_2 = nn.ReLU()\n",
        "\n",
        "        \n",
        "\n",
        "        \n",
        "\n",
        "        ### Output layer: 200 --> 10\n",
        "        self.fc_out = nn.Linear(200, num_classes)\n",
        "\n",
        "\n",
        "\n",
        "    def forward(self, x):\n",
        "        ### 1st hidden layer\n",
        "        out  = self.fc1(x)\n",
        "        ### Non-linearity in 1st hidden layer\n",
        "        out = self.relu_1(out)\n",
        "        \n",
        "         ### 2nd hidden layer\n",
        "        out  = self.fc2(out)\n",
        "        ### Non-linearity in 1st hidden layer\n",
        "        out = self.relu_2(out)\n",
        "\n",
        "      \n",
        "\n",
        "        logits  = self.fc2(out)\n",
        "\n",
        "        probas = F.softmax(logits, dim=1)\n",
        "        return [logits, probas]"
      ],
      "execution_count": 9,
      "outputs": []
    },
    {
      "cell_type": "code",
      "metadata": {
        "colab": {
          "base_uri": "https://localhost:8080/"
        },
        "id": "HIfiAaZB1rJz",
        "outputId": "2a209091-481f-4168-ed6a-6a68419c9a63"
      },
      "source": [
        "'''\n",
        "INSTANTIATE MODEL CLASS\n",
        "'''\n",
        "model = LogisticRegressionModel(input_size=input_dim,\n",
        "                                num_classes=output_dim)\n",
        "# To enable GPU\n",
        "model.to(device)"
      ],
      "execution_count": 10,
      "outputs": [
        {
          "output_type": "execute_result",
          "data": {
            "text/plain": [
              "LogisticRegressionModel(\n",
              "  (fc1): Linear(in_features=32400, out_features=200, bias=True)\n",
              "  (relu_1): ReLU()\n",
              "  (fc2): Linear(in_features=200, out_features=200, bias=True)\n",
              "  (relu_2): ReLU()\n",
              "  (fc_out): Linear(in_features=200, out_features=10, bias=True)\n",
              ")"
            ]
          },
          "metadata": {},
          "execution_count": 10
        }
      ]
    },
    {
      "cell_type": "markdown",
      "metadata": {
        "id": "pdrDJPOKzdSp"
      },
      "source": [
        "###Step #2 : Construct loss and optimizer (select from PyTorch API)\n",
        "\n",
        "Unlike linear regression, we do not use MSE here, we need Cross Entropy Loss to calculate our loss before we backpropagate and update our parameters.\n",
        "\n",
        "`criterion = nn.CrossEntropyLoss() ` \n",
        "\n",
        "It does 2 things at the same time.\n",
        "\n",
        "1. Computes softmax ([Logistic or Sigmoid]/softmax function)\n",
        "2. Computes Cross Entropy Loss"
      ]
    },
    {
      "cell_type": "code",
      "metadata": {
        "id": "GM2q_XGHzcta"
      },
      "source": [
        "# INSTANTIATE OPTIMIZER CLASS\n",
        "optimizer = torch.optim.SGD(model.parameters(), lr=learning_rate)"
      ],
      "execution_count": 14,
      "outputs": []
    },
    {
      "cell_type": "markdown",
      "metadata": {
        "id": "I2Hb_JQ6AUok"
      },
      "source": [
        "###Step #3 : Training: forward, loss, backward, step"
      ]
    },
    {
      "cell_type": "code",
      "metadata": {
        "colab": {
          "base_uri": "https://localhost:8080/"
        },
        "id": "Q3Jb4vhRZI9p",
        "outputId": "b0633412-3eb5-46c6-bc78-b2f9dc7467d4"
      },
      "source": [
        "'''\n",
        "TRAIN THE MODEL\n",
        "'''\n",
        "iteration_loss = []\n",
        "iter = 0\n",
        "for epoch in range(num_epochs):\n",
        "    for i, (images, labels) in enumerate(train_loader):\n",
        "\n",
        "        images = images.view(-1, 180*180).to(device)\n",
        "        labels = labels.to(device)\n",
        "        #labels =labels.flatten()\n",
        "\n",
        "        # Clear gradients w.r.t. parameters\n",
        "        optimizer.zero_grad()\n",
        "\n",
        "        # Forward pass to get output/logits\n",
        "        logits, probas = model(images) \n",
        "        \n",
        "        \n",
        "\n",
        "        \n",
        "        loss = F.cross_entropy(logits, labels)\n",
        "\n",
        "        # Getting gradients w.r.t. parameters\n",
        "        loss.backward()\n",
        "\n",
        "        # Updating parameters\n",
        "        optimizer.step()\n",
        "\n",
        "        iter += 1\n",
        "\n",
        "        if iter % 500 == 0:\n",
        "            # Calculate Accuracy         \n",
        "            correct = 0\n",
        "            total = 0\n",
        "            # Iterate through test dataset\n",
        "            for images, labels in test_loader:\n",
        "               \n",
        "                images = images.view(-1, 180*180).to(device)\n",
        "                labels = labels.to(device)\n",
        "               # labels =labels.flatten()\n",
        "                \n",
        "\n",
        "                # Forward pass only to get logits/output\n",
        "                logits, probas = model(images)\n",
        "\n",
        "                # Get predictions from the maximum value\n",
        "                _, predicted = torch.max(probas, 1)\n",
        "\n",
        "                # Total number of labels\n",
        "                total += labels.size(0)\n",
        "                #print(correct)\n",
        "                #print(total)\n",
        "\n",
        "\n",
        "                # Total correct predictions\n",
        "                if torch.cuda.is_available():\n",
        "                    correct += (predicted.cpu() == labels.cpu()).sum() \n",
        "                else:\n",
        "                    correct += (predicted == labels).sum()\n",
        "\n",
        "            accuracy = 100 * correct.item() / total\n",
        "\n",
        "            # Print Loss\n",
        "            iteration_loss.append(loss.item())\n",
        "            print('Iteration: {}. Loss: {}. Accuracy: {}'.format(iter, loss.item(), accuracy))"
      ],
      "execution_count": 15,
      "outputs": [
        {
          "output_type": "stream",
          "name": "stdout",
          "text": [
            "Iteration: 500. Loss: 2.0033793449401855. Accuracy: 37.15520790448744\n",
            "Iteration: 1000. Loss: 1.5773643255233765. Accuracy: 43.536434746809384\n",
            "Iteration: 1500. Loss: 1.3447788953781128. Accuracy: 50.14409221902017\n",
            "Iteration: 2000. Loss: 1.2849918603897095. Accuracy: 54.71387402223137\n",
            "Iteration: 2500. Loss: 1.0853629112243652. Accuracy: 57.53396459448333\n",
            "Iteration: 3000. Loss: 0.9952907562255859. Accuracy: 64.96500617538082\n",
            "Iteration: 3500. Loss: 0.7427974939346313. Accuracy: 66.8176204199259\n",
            "Iteration: 4000. Loss: 0.42527803778648376. Accuracy: 70.0494030465212\n",
            "Iteration: 4500. Loss: 0.5831571817398071. Accuracy: 70.09057225195554\n",
            "Iteration: 5000. Loss: 0.41656240820884705. Accuracy: 71.5726636475916\n",
            "Iteration: 5500. Loss: 0.3874768316745758. Accuracy: 72.64306298888431\n",
            "Iteration: 6000. Loss: 0.22851896286010742. Accuracy: 74.14573898723755\n",
            "Iteration: 6500. Loss: 0.23348203301429749. Accuracy: 73.36352408398518\n",
            "Iteration: 7000. Loss: 0.10485337674617767. Accuracy: 74.4339234252779\n",
            "Iteration: 7500. Loss: 0.13916625082492828. Accuracy: 74.22807739810622\n",
            "Iteration: 8000. Loss: 0.10687166452407837. Accuracy: 75.25730753396459\n",
            "Iteration: 8500. Loss: 0.15936508774757385. Accuracy: 74.90736928777275\n",
            "Iteration: 9000. Loss: 0.061352215707302094. Accuracy: 75.5660765747221\n",
            "Iteration: 9500. Loss: 0.05167527124285698. Accuracy: 75.62783038287361\n",
            "Iteration: 10000. Loss: 0.020032193511724472. Accuracy: 75.68958419102512\n",
            "Iteration: 10500. Loss: 0.04523327946662903. Accuracy: 75.79250720461096\n",
            "Iteration: 11000. Loss: 0.03526182845234871. Accuracy: 75.73075339645945\n",
            "Iteration: 11500. Loss: 0.02177540585398674. Accuracy: 75.4425689584191\n",
            "Iteration: 12000. Loss: 0.01756671816110611. Accuracy: 75.52490736928777\n",
            "Iteration: 12500. Loss: 0.020200587809085846. Accuracy: 75.75133799917661\n",
            "Iteration: 13000. Loss: 0.008827212266623974. Accuracy: 75.97776862906547\n",
            "Iteration: 13500. Loss: 0.013056439347565174. Accuracy: 75.81309180732812\n",
            "Iteration: 14000. Loss: 0.0072506750002503395. Accuracy: 75.8954302181968\n",
            "Iteration: 14500. Loss: 0.010619794949889183. Accuracy: 76.12186084808563\n",
            "Iteration: 15000. Loss: 0.005954395513981581. Accuracy: 76.03952243721696\n",
            "Iteration: 15500. Loss: 0.005291441455483437. Accuracy: 76.12186084808563\n"
          ]
        }
      ]
    },
    {
      "cell_type": "code",
      "metadata": {
        "colab": {
          "base_uri": "https://localhost:8080/",
          "height": 317
        },
        "id": "mtjcVx9cq21j",
        "outputId": "ff1a3e4f-812e-429c-c4e1-42dffcf89dc2"
      },
      "source": [
        "import matplotlib\n",
        "import matplotlib.pyplot as plt\n",
        "\n",
        "print (iteration_loss)\n",
        "plt.plot(iteration_loss)\n",
        "plt.ylabel('Cross Entropy Loss')\n",
        "plt.xlabel('Iteration (in every 500)')\n",
        "plt.show()"
      ],
      "execution_count": 16,
      "outputs": [
        {
          "output_type": "stream",
          "name": "stdout",
          "text": [
            "[2.0033793449401855, 1.5773643255233765, 1.3447788953781128, 1.2849918603897095, 1.0853629112243652, 0.9952907562255859, 0.7427974939346313, 0.42527803778648376, 0.5831571817398071, 0.41656240820884705, 0.3874768316745758, 0.22851896286010742, 0.23348203301429749, 0.10485337674617767, 0.13916625082492828, 0.10687166452407837, 0.15936508774757385, 0.061352215707302094, 0.05167527124285698, 0.020032193511724472, 0.04523327946662903, 0.03526182845234871, 0.02177540585398674, 0.01756671816110611, 0.020200587809085846, 0.008827212266623974, 0.013056439347565174, 0.0072506750002503395, 0.010619794949889183, 0.005954395513981581, 0.005291441455483437]\n"
          ]
        },
        {
          "output_type": "display_data",
          "data": {
            "image/png": "[encoded data removed]",
            "text/plain": [
              "<Figure size 432x288 with 1 Axes>"
            ]
          },
          "metadata": {
            "needs_background": "light"
          }
        }
      ]
    },
    {
      "cell_type": "code",
      "metadata": {
        "colab": {
          "base_uri": "https://localhost:8080/"
        },
        "id": "_NU02gYNmO7c",
        "outputId": "e1124db6-ce44-4d8a-f432-acdad4056da8"
      },
      "source": [
        "from google.colab import drive\n",
        "\n",
        "drive.mount('/content/drive')\n",
        "\n",
        "root_path = '/content/drive/MyDrive/4238data/'"
      ],
      "execution_count": 17,
      "outputs": [
        {
          "output_type": "stream",
          "name": "stdout",
          "text": [
            "Drive already mounted at /content/drive; to attempt to forcibly remount, call drive.mount(\"/content/drive\", force_remount=True).\n"
          ]
        }
      ]
    }
  ]
}