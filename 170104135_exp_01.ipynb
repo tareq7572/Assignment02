{
  "nbformat": 4,
  "nbformat_minor": 0,
  "metadata": {
    "colab": {
      "name": "assignment_02_final.ipynb",
      "provenance": [],
      "collapsed_sections": []
    },
    "kernelspec": {
      "name": "python3",
      "display_name": "Python 3"
    },
    "accelerator": "GPU"
  },
  "cells": [
    {
      "cell_type": "markdown",
      "metadata": {
        "id": "_u3E0-zKCkqr"
      },
      "source": [
        "## Basic Comparison\n",
        "\n",
        "- **Linear Regression**\n",
        "    - Output: numeric value given inputs\n",
        "- **Logistic Regression**\n",
        "    - Output: probability [0, 1] given input belonging to a class\n",
        "\n",
        "\n",
        "\n",
        "**Logistic Regression Example: Positive vs Negative**\n",
        "\n",
        "**Input:** Sequence of Words\n",
        "\n",
        "**Output:** Probability of positive\n",
        "\n",
        "- Input: \"Delivery speed was good\"\n",
        "- Output: **p = 0.8**\n",
        "\n",
        "- Input: \"Terrible Customer Service\"\n",
        "- Output: **p = 0.2**"
      ]
    },
    {
      "cell_type": "markdown",
      "metadata": {
        "id": "SyzBofWXmt0H"
      },
      "source": [
        "\n",
        "\n",
        "\n",
        "<div align=\"center\">\n",
        "<img src=\"https://drive.google.com/uc?id=1VT-muG5HJoWaT9jwlmI6fe_7CjbW9x8I\" width=\"400\">\n",
        "</div>\n",
        "\n",
        "\n",
        "<div align=\"center\">\n",
        "<img src=\"https://drive.google.com/uc?id=1foK0jI3dSuvCBBUbiqVKMiLn7x3ngA_x\" width=\"550\">\n",
        "</div>"
      ]
    },
    {
      "cell_type": "code",
      "metadata": {
        "id": "HJ1dVc9mgbN8",
        "colab": {
          "base_uri": "https://localhost:8080/"
        },
        "outputId": "f67d32e2-8c96-44d8-f6aa-ae271e47f230"
      },
      "source": [
        "import torch\n",
        "import torch.nn as nn\n",
        "import torch.nn.functional as F\n",
        "import torchvision\n",
        "import torchvision.transforms as transforms\n",
        "import torchvision.datasets as dsets\n",
        "import os\n",
        "import pandas as pd\n",
        "from skimage import io, transform\n",
        "import numpy as np\n",
        "import matplotlib.pyplot as plt\n",
        "from torch.utils.data import Dataset, DataLoader\n",
        "from torchvision import transforms, utils\n",
        "from google.colab import drive\n",
        "from PIL import Image, ImageOps, ImageEnhance\n",
        "from sklearn.linear_model import LinearRegression\n",
        "\n",
        "drive.mount('/content/drive')"
      ],
      "execution_count": 4,
      "outputs": [
        {
          "output_type": "stream",
          "name": "stdout",
          "text": [
            "Drive already mounted at /content/drive; to attempt to forcibly remount, call drive.mount(\"/content/drive\", force_remount=True).\n"
          ]
        }
      ]
    },
    {
      "cell_type": "markdown",
      "metadata": {
        "id": "fXVIydDCxDPS"
      },
      "source": [
        "- **Input dimension:**\n",
        "  - Size of image: $180 \\times 180 = 32400$\n",
        "\n",
        "- **Output dimension: 10**\n",
        "  - 0, 1, 2, 3, 4, 5, 6, 7, 8, 9"
      ]
    },
    {
      "cell_type": "code",
      "metadata": {
        "id": "o5hVijghPqz0"
      },
      "source": [
        "# Hyperparameters\n",
        "\n",
        "batch_size = 20\n",
        "num_iters = 20000\n",
        "input_dim = 180*180 # num_features = 784\n",
        "output_dim = 10\n",
        "\n",
        "learning_rate = 0.01\n",
        "\n",
        "# Device\n",
        "device = torch.device(\"cuda:0\" if torch.cuda.is_available() else \"cpu\")\n",
        "\n",
        "\n"
      ],
      "execution_count": 5,
      "outputs": []
    },
    {
      "cell_type": "code",
      "metadata": {
        "id": "MnG7M9kvibM3"
      },
      "source": [
        "class MyDataset(Dataset):\n",
        "\n",
        "\n",
        "    def __init__(self, csv_file, root_dir, transform=None):\n",
        "        \n",
        "        self.df = pd.read_csv(csv_file)\n",
        "        self.root_dir = root_dir\n",
        "        self.transform = transform\n",
        "\n",
        "    def __len__(self):\n",
        "        return len(self.df)\n",
        "\n",
        "    def __getitem__(self, idx):\n",
        "        if torch.is_tensor(idx): #del\n",
        "            idx = idx.tolist()\n",
        "        threshold_value=110\n",
        "        img_name = os.path.join(self.root_dir,self.df.iloc[idx, 0])\n",
        "        image = Image.open(img_name)\n",
        "        image = ImageOps.invert(image)\n",
        "        enhancement = ImageEnhance.Contrast(image)\n",
        "        image = enhancement.enhance(2)\n",
        "        image=image.point(lambda value: value > threshold_value and 255) \n",
        "        enhancement = ImageEnhance.Brightness(image)\n",
        "        image = enhancement.enhance(50)\n",
        "        \n",
        "        digit = self.df.iloc[idx, 1:]\n",
        "        digit = np.array([digit])\n",
        "        dig=digit[0][0].item()\n",
        "      \n",
        "\n",
        "        if self.transform:\n",
        "           image = self.transform(image)\n",
        "           \n",
        "        return (image,dig)"
      ],
      "execution_count": 6,
      "outputs": []
    },
    {
      "cell_type": "markdown",
      "metadata": {
        "id": "C4R6x4MvEsOT"
      },
      "source": [
        "\n",
        "\n",
        "```\n",
        "# This is formatted as code\n",
        "```\n",
        "\n",
        "### Loading  Dataset"
      ]
    },
    {
      "cell_type": "code",
      "metadata": {
        "id": "eUumuKA-cahD"
      },
      "source": [
        "transform = transforms.Compose([\n",
        "                               \n",
        "                                transforms.Grayscale(), \n",
        "                                \n",
        "                                \n",
        "                                transforms.ToTensor(),\n",
        "                                \n",
        "                               ])\n",
        "\n",
        "\n",
        "\n",
        "\n",
        "\n",
        "'''\n",
        "LOADING DATASET\n",
        "'''\n",
        "dset=MyDataset(csv_file='/content/drive/MyDrive/assignment02_data/train/training-c.csv',root_dir='/content/drive/MyDrive/assignment02_data/train/check',transform=transform)\n",
        "train_dataset,test_dataset = torch.utils.data.random_split(dset,[19440,4858])\n",
        "\n",
        "num_epochs = num_iters / (len(train_dataset) / batch_size)\n",
        "num_epochs = int(num_epochs)\n",
        "\n",
        "train_loader = torch.utils.data.DataLoader(dataset=train_dataset, \n",
        "                                           batch_size=batch_size, \n",
        "                                           shuffle=True\n",
        "                                           )    \n",
        "\n",
        "test_loader = torch.utils.data.DataLoader(dataset=test_dataset, \n",
        "                                          batch_size=batch_size, \n",
        "                                          shuffle=False)  \n",
        "\n"
      ],
      "execution_count": 7,
      "outputs": []
    },
    {
      "cell_type": "code",
      "metadata": {
        "id": "vmkMVvf8CLHf",
        "colab": {
          "base_uri": "https://localhost:8080/"
        },
        "outputId": "99557678-63a5-4916-ec78-7669f6f70e67"
      },
      "source": [
        "print(len(train_dataset))\n",
        "print(len(test_dataset))\n",
        "print(num_epochs)\n",
        "train_dataset"
      ],
      "execution_count": 8,
      "outputs": [
        {
          "output_type": "stream",
          "name": "stdout",
          "text": [
            "19440\n",
            "4858\n",
            "20\n"
          ]
        },
        {
          "output_type": "execute_result",
          "data": {
            "text/plain": [
              "<torch.utils.data.dataset.Subset at 0x7f8c86254c50>"
            ]
          },
          "metadata": {},
          "execution_count": 8
        }
      ]
    },
    {
      "cell_type": "code",
      "metadata": {
        "id": "m6vX_1SSCWxj",
        "colab": {
          "base_uri": "https://localhost:8080/"
        },
        "outputId": "bb42fdd4-5c95-4f18-879e-523c4a8224ca"
      },
      "source": [
        "# Inspecting a single image (180 pixel x 180 pixel) -->  180x180 matrix of numbers\n",
        "\n",
        "train_dataset[0]"
      ],
      "execution_count": 9,
      "outputs": [
        {
          "output_type": "execute_result",
          "data": {
            "text/plain": [
              "(tensor([[[0., 0., 0.,  ..., 0., 0., 0.],\n",
              "          [0., 0., 0.,  ..., 0., 0., 0.],\n",
              "          [0., 0., 0.,  ..., 0., 0., 0.],\n",
              "          ...,\n",
              "          [0., 0., 0.,  ..., 0., 0., 0.],\n",
              "          [0., 0., 0.,  ..., 0., 0., 0.],\n",
              "          [0., 0., 0.,  ..., 0., 0., 0.]]]), 7)"
            ]
          },
          "metadata": {},
          "execution_count": 9
        }
      ]
    },
    {
      "cell_type": "code",
      "metadata": {
        "id": "cM6LyqXOMcl-",
        "colab": {
          "base_uri": "https://localhost:8080/",
          "height": 287
        },
        "outputId": "299b61a5-ee2d-4b4d-cea8-6a0f942e551d"
      },
      "source": [
        "## Displaying a MNIST Image\n",
        "\n",
        "import matplotlib.pyplot as plt \n",
        "import numpy as np\n",
        "\n",
        "show_img = train_dataset[0][0].numpy().reshape(180, 180)\n",
        "plt.imshow(show_img, cmap='gray')"
      ],
      "execution_count": 10,
      "outputs": [
        {
          "output_type": "execute_result",
          "data": {
            "text/plain": [
              "<matplotlib.image.AxesImage at 0x7f8c86027390>"
            ]
          },
          "metadata": {},
          "execution_count": 10
        },
        {
          "output_type": "display_data",
          "data": {
            "image/png": "[encoded data removed]",
            "text/plain": [
              "<Figure size 432x288 with 1 Axes>"
            ]
          },
          "metadata": {
            "needs_background": "light"
          }
        }
      ]
    },
    {
      "cell_type": "markdown",
      "metadata": {
        "id": "nRm3MYkW8QVU"
      },
      "source": [
        "### Step #1 : Design your model using class"
      ]
    },
    {
      "cell_type": "code",
      "metadata": {
        "id": "6mydzEXpeu7G"
      },
      "source": [
        "class LogisticRegressionModel(nn.Module):\n",
        "    def __init__(self, input_size, num_classes):\n",
        "        super().__init__()\n",
        "        #1st hidden layer\n",
        "        self.fc1 = nn.Linear(input_size, 200)\n",
        "        self.relu_1 = nn.ReLU()\n",
        "        \n",
        "        #2nd hidden layer\n",
        "        self.fc2 = nn.Linear(200, 200)\n",
        "        self.relu_2 = nn.ReLU()\n",
        "\n",
        "        #3rd hidden layer\n",
        "        self.fc3 = nn.Linear(200, 200)\n",
        "        self.relu_3 = nn.ReLU()\n",
        "\n",
        "        #4th hidden layer\n",
        "        self.fc4 = nn.Linear(200, 200)\n",
        "        self.relu_4 = nn.ReLU()\n",
        "\n",
        "        #5th hidden layer\n",
        "        self.fc5 = nn.Linear(200, 200)\n",
        "        self.relu_5 = nn.ReLU()\n",
        "\n",
        "        #6th hidden layer\n",
        "        self.fc6 = nn.Linear(200, 200)\n",
        "        self.relu_6 = nn.ReLU()\n",
        "\n",
        "        ### Output layer: 200 --> 10\n",
        "        self.fc_out = nn.Linear(200, num_classes)\n",
        "\n",
        "\n",
        "\n",
        "    def forward(self, x):\n",
        "        ### 1st hidden layer\n",
        "        out  = self.fc1(x)\n",
        "        ### Non-linearity in 1st hidden layer\n",
        "        out = self.relu_1(out)\n",
        "        \n",
        "         ### 2nd hidden layer\n",
        "        out  = self.fc2(out)\n",
        "        ### Non-linearity in 1st hidden layer\n",
        "        out = self.relu_2(out)\n",
        "\n",
        "         ### 3rd hidden layer\n",
        "        out  = self.fc3(out)\n",
        "        ### Non-linearity in 1st hidden layer\n",
        "        out = self.relu_3(out)\n",
        "\n",
        "\n",
        "         ### 4th hidden layer\n",
        "        out  = self.fc4(out)\n",
        "        ### Non-linearity in 1st hidden layer\n",
        "        out = self.relu_4(out)\n",
        "\n",
        "\n",
        "         ### 5th hidden layer\n",
        "        out  = self.fc5(out)\n",
        "        ### Non-linearity in 1st hidden layer\n",
        "        out = self.relu_5(out)\n",
        "\n",
        "         ### 6th hidden layer\n",
        "        out  = self.fc6(out)\n",
        "        ### Non-linearity in 1st hidden layer\n",
        "        out = self.relu_6(out)\n",
        "\n",
        "        logits  = self.fc6(out)\n",
        "\n",
        "        probas = F.softmax(logits, dim=1)\n",
        "        return [logits, probas]"
      ],
      "execution_count": null,
      "outputs": []
    },
    {
      "cell_type": "code",
      "metadata": {
        "id": "HIfiAaZB1rJz",
        "colab": {
          "base_uri": "https://localhost:8080/"
        },
        "outputId": "bf663219-c4b2-4d25-803e-e17b1646ddb5"
      },
      "source": [
        "'''\n",
        "INSTANTIATE MODEL CLASS\n",
        "'''\n",
        "model = LogisticRegressionModel(input_size=input_dim,\n",
        "                                num_classes=output_dim)\n",
        "# To enable GPU\n",
        "model.to(device)"
      ],
      "execution_count": null,
      "outputs": [
        {
          "output_type": "execute_result",
          "data": {
            "text/plain": [
              "LogisticRegressionModel(\n",
              "  (fc1): Linear(in_features=32400, out_features=200, bias=True)\n",
              "  (relu_1): ReLU()\n",
              "  (fc2): Linear(in_features=200, out_features=200, bias=True)\n",
              "  (relu_2): ReLU()\n",
              "  (fc3): Linear(in_features=200, out_features=200, bias=True)\n",
              "  (relu_3): ReLU()\n",
              "  (fc4): Linear(in_features=200, out_features=200, bias=True)\n",
              "  (relu_4): ReLU()\n",
              "  (fc5): Linear(in_features=200, out_features=200, bias=True)\n",
              "  (relu_5): ReLU()\n",
              "  (fc6): Linear(in_features=200, out_features=200, bias=True)\n",
              "  (relu_6): ReLU()\n",
              "  (fc_out): Linear(in_features=200, out_features=10, bias=True)\n",
              ")"
            ]
          },
          "metadata": {},
          "execution_count": 26
        }
      ]
    },
    {
      "cell_type": "markdown",
      "metadata": {
        "id": "pdrDJPOKzdSp"
      },
      "source": [
        "###Step #2 : Construct loss and optimizer (select from PyTorch API)\n",
        "\n",
        "Unlike linear regression, we do not use MSE here, we need Cross Entropy Loss to calculate our loss before we backpropagate and update our parameters.\n",
        "\n",
        "`criterion = nn.CrossEntropyLoss() ` \n",
        "\n",
        "It does 2 things at the same time.\n",
        "\n",
        "1. Computes softmax ([Logistic or Sigmoid]/softmax function)\n",
        "2. Computes Cross Entropy Loss"
      ]
    },
    {
      "cell_type": "code",
      "metadata": {
        "id": "GM2q_XGHzcta"
      },
      "source": [
        "# INSTANTIATE OPTIMIZER CLASS\n",
        "optimizer = torch.optim.SGD(model.parameters(), lr=learning_rate)"
      ],
      "execution_count": null,
      "outputs": []
    },
    {
      "cell_type": "markdown",
      "metadata": {
        "id": "I2Hb_JQ6AUok"
      },
      "source": [
        "###Step #3 : Training: forward, loss, backward, step"
      ]
    },
    {
      "cell_type": "code",
      "metadata": {
        "id": "Q3Jb4vhRZI9p",
        "colab": {
          "base_uri": "https://localhost:8080/"
        },
        "outputId": "7a69374f-7c5f-4dc3-f381-19ba938f0f48"
      },
      "source": [
        "'''\n",
        "TRAIN THE MODEL\n",
        "'''\n",
        "iteration_loss = []\n",
        "iter = 0\n",
        "for epoch in range(num_epochs):\n",
        "    for i, (images, labels) in enumerate(train_loader):\n",
        "\n",
        "        images = images.view(-1, 180*180).to(device)\n",
        "        labels = labels.to(device)\n",
        "        #labels =labels.flatten()\n",
        "\n",
        "        # Clear gradients w.r.t. parameters\n",
        "        optimizer.zero_grad()\n",
        "\n",
        "        # Forward pass to get output/logits\n",
        "        logits, probas = model(images) \n",
        "        \n",
        "        \n",
        "\n",
        "        \n",
        "        loss = F.cross_entropy(logits, labels)\n",
        "\n",
        "        # Getting gradients w.r.t. parameters\n",
        "        loss.backward()\n",
        "\n",
        "        # Updating parameters\n",
        "        optimizer.step()\n",
        "\n",
        "        iter += 1\n",
        "\n",
        "        if iter % 500 == 0:\n",
        "            # Calculate Accuracy         \n",
        "            correct = 0\n",
        "            total = 0\n",
        "            # Iterate through test dataset\n",
        "            for images, labels in test_loader:\n",
        "               \n",
        "                images = images.view(-1, 180*180).to(device)\n",
        "                labels = labels.to(device)\n",
        "               # labels =labels.flatten()\n",
        "                \n",
        "\n",
        "                # Forward pass only to get logits/output\n",
        "                logits, probas = model(images)\n",
        "\n",
        "                # Get predictions from the maximum value\n",
        "                _, predicted = torch.max(probas, 1)\n",
        "\n",
        "                # Total number of labels\n",
        "                total += labels.size(0)\n",
        "                #print(correct)\n",
        "                #print(total)\n",
        "\n",
        "\n",
        "                # Total correct predictions\n",
        "                if torch.cuda.is_available():\n",
        "                    correct += (predicted.cpu() == labels.cpu()).sum() \n",
        "                else:\n",
        "                    correct += (predicted == labels).sum()\n",
        "\n",
        "            accuracy = 100 * correct.item() / total\n",
        "\n",
        "            # Print Loss\n",
        "            iteration_loss.append(loss.item())\n",
        "            print('Iteration: {}. Loss: {}. Accuracy: {}'.format(iter, loss.item(), accuracy))"
      ],
      "execution_count": null,
      "outputs": [
        {
          "output_type": "stream",
          "name": "stdout",
          "text": [
            "Iteration: 500. Loss: 2.4482293128967285. Accuracy: 9.678920428106096\n",
            "Iteration: 1000. Loss: 2.325873613357544. Accuracy: 10.120986505351325\n",
            "Iteration: 1500. Loss: 2.304504871368408. Accuracy: 14.564913913448116\n",
            "Iteration: 2000. Loss: 2.2063815593719482. Accuracy: 10.167519776640297\n",
            "Iteration: 2500. Loss: 2.3189895153045654. Accuracy: 12.214983713355048\n",
            "Iteration: 3000. Loss: 2.254337787628174. Accuracy: 14.076314564913913\n",
            "Iteration: 3500. Loss: 2.3566994667053223. Accuracy: 14.053047929269427\n",
            "Iteration: 4000. Loss: 2.1975674629211426. Accuracy: 15.169846440204747\n",
            "Iteration: 4500. Loss: 2.267841100692749. Accuracy: 16.775244299674267\n",
            "Iteration: 5000. Loss: 2.0542197227478027. Accuracy: 16.658911121451837\n",
            "Iteration: 5500. Loss: 2.246396541595459. Accuracy: 19.450907398790136\n",
            "Iteration: 6000. Loss: 2.3213953971862793. Accuracy: 23.452768729641694\n",
            "Iteration: 6500. Loss: 1.8509509563446045. Accuracy: 24.848766868310843\n",
            "Iteration: 7000. Loss: 1.597931146621704. Accuracy: 29.874360167519775\n",
            "Iteration: 7500. Loss: 1.7380635738372803. Accuracy: 32.7826896230805\n",
            "Iteration: 8000. Loss: 1.4344364404678345. Accuracy: 37.319683573755235\n",
            "Iteration: 8500. Loss: 1.3256442546844482. Accuracy: 36.90088413215449\n",
            "Iteration: 9000. Loss: 0.9222731590270996. Accuracy: 47.18473708701722\n",
            "Iteration: 9500. Loss: 0.8030505180358887. Accuracy: 51.90786412284783\n",
            "Iteration: 10000. Loss: 0.7828546762466431. Accuracy: 53.48999534667287\n",
            "Iteration: 10500. Loss: 0.6711440682411194. Accuracy: 60.02791996277338\n",
            "Iteration: 11000. Loss: 0.5380706787109375. Accuracy: 61.42391810144253\n",
            "Iteration: 11500. Loss: 0.7692025303840637. Accuracy: 61.93578408562122\n",
            "Iteration: 12000. Loss: 0.534218430519104. Accuracy: 63.401582131223826\n",
            "Iteration: 12500. Loss: 0.5864667296409607. Accuracy: 64.47184737087017\n",
            "Iteration: 13000. Loss: 0.2683660089969635. Accuracy: 61.19125174499767\n",
            "Iteration: 13500. Loss: 0.8881567716598511. Accuracy: 65.44904606793858\n",
            "Iteration: 14000. Loss: 0.31102636456489563. Accuracy: 63.4481154025128\n",
            "Iteration: 14500. Loss: 0.5408983826637268. Accuracy: 66.65891112145184\n",
            "Iteration: 15000. Loss: 0.15474553406238556. Accuracy: 67.0544439274081\n",
            "Iteration: 15500. Loss: 0.1300322264432907. Accuracy: 67.77570963238716\n",
            "Iteration: 16000. Loss: 0.3919726610183716. Accuracy: 65.19311307584923\n",
            "Iteration: 16500. Loss: 0.08539023250341415. Accuracy: 67.10097719869707\n",
            "Iteration: 17000. Loss: 0.08439014106988907. Accuracy: 68.56677524429968\n",
            "Iteration: 17500. Loss: 0.19715888798236847. Accuracy: 69.3345742205677\n",
            "Iteration: 18000. Loss: 0.3197513222694397. Accuracy: 68.26430898092136\n",
            "Iteration: 18500. Loss: 0.09876535832881927. Accuracy: 66.98464402047463\n",
            "Iteration: 19000. Loss: 0.046140048652887344. Accuracy: 66.65891112145184\n",
            "Iteration: 19500. Loss: 0.05365132540464401. Accuracy: 69.40437412750116\n",
            "Iteration: 20000. Loss: 0.023013439029455185. Accuracy: 68.00837598883201\n"
          ]
        }
      ]
    },
    {
      "cell_type": "code",
      "metadata": {
        "id": "mtjcVx9cq21j",
        "colab": {
          "base_uri": "https://localhost:8080/",
          "height": 316
        },
        "outputId": "75506240-e03e-4f0f-e8d4-9bde1fc8813c"
      },
      "source": [
        "import matplotlib\n",
        "import matplotlib.pyplot as plt\n",
        "\n",
        "print (iteration_loss)\n",
        "plt.plot(iteration_loss)\n",
        "plt.ylabel('Cross Entropy Loss')\n",
        "plt.xlabel('Iteration (in every 500)')\n",
        "plt.show()"
      ],
      "execution_count": null,
      "outputs": [
        {
          "output_type": "stream",
          "name": "stdout",
          "text": [
            "[2.4482293128967285, 2.325873613357544, 2.304504871368408, 2.2063815593719482, 2.3189895153045654, 2.254337787628174, 2.3566994667053223, 2.1975674629211426, 2.267841100692749, 2.0542197227478027, 2.246396541595459, 2.3213953971862793, 1.8509509563446045, 1.597931146621704, 1.7380635738372803, 1.4344364404678345, 1.3256442546844482, 0.9222731590270996, 0.8030505180358887, 0.7828546762466431, 0.6711440682411194, 0.5380706787109375, 0.7692025303840637, 0.534218430519104, 0.5864667296409607, 0.2683660089969635, 0.8881567716598511, 0.31102636456489563, 0.5408983826637268, 0.15474553406238556, 0.1300322264432907, 0.3919726610183716, 0.08539023250341415, 0.08439014106988907, 0.19715888798236847, 0.3197513222694397, 0.09876535832881927, 0.046140048652887344, 0.05365132540464401, 0.023013439029455185]\n"
          ]
        },
        {
          "output_type": "display_data",
          "data": {
            "image/png": "[encoded data removed]",
            "text/plain": [
              "<Figure size 432x288 with 1 Axes>"
            ]
          },
          "metadata": {
            "needs_background": "light"
          }
        }
      ]
    },
    {
      "cell_type": "code",
      "metadata": {
        "id": "_NU02gYNmO7c",
        "colab": {
          "base_uri": "https://localhost:8080/"
        },
        "outputId": "9b447c03-7829-46bb-c15c-c98fc258ee6d"
      },
      "source": [
        "from google.colab import drive\n",
        "\n",
        "drive.mount('/content/drive')\n",
        "\n",
        "root_path = '/content/drive/MyDrive/4238data/'"
      ],
      "execution_count": null,
      "outputs": [
        {
          "output_type": "stream",
          "name": "stdout",
          "text": [
            "Drive already mounted at /content/drive; to attempt to forcibly remount, call drive.mount(\"/content/drive\", force_remount=True).\n"
          ]
        }
      ]
    }
  ]
}